{
  "nbformat": 4,
  "nbformat_minor": 0,
  "metadata": {
    "colab": {
      "provenance": [],
      "gpuType": "T4",
      "authorship_tag": "ABX9TyPbP8Uid0+biTEPWR6RchxO",
      "include_colab_link": true
    },
    "kernelspec": {
      "name": "python3",
      "display_name": "Python 3"
    },
    "language_info": {
      "name": "python"
    },
    "accelerator": "GPU"
  },
  "cells": [
    {
      "cell_type": "markdown",
      "metadata": {
        "id": "view-in-github",
        "colab_type": "text"
      },
      "source": [
        "<a href=\"https://colab.research.google.com/github/karthik19-cloud/GenAI-Training/blob/main/house_price_prediction_3d_plot.ipynb\" target=\"_parent\"><img src=\"https://colab.research.google.com/assets/colab-badge.svg\" alt=\"Open In Colab\"/></a>"
      ]
    },
    {
      "cell_type": "code",
      "execution_count": null,
      "metadata": {
        "id": "p92Cl3eP9Nu5"
      },
      "outputs": [],
      "source": [
        "import os, io, re\n",
        "import numpy as np\n",
        "import pandas as pd\n",
        "import matplotlib.pyplot as plt\n",
        "from mpl_toolkits.mplot3d import Axes3D  # noqa: F401 (enables 3D)\n",
        "from sklearn.impute import SimpleImputer\n",
        "from sklearn.preprocessing import StandardScaler\n",
        "from sklearn.pipeline import Pipeline\n",
        "from sklearn.linear_model import LinearRegression\n",
        "\n",
        "# -------- 0) Point to your file OR upload ----------\n",
        "# Option A: if you already placed it in sample_data\n",
        "DATA_PATH = \"/content/sample_data/housing.csv\"\n",
        "\n",
        "if not os.path.exists(DATA_PATH):\n",
        "    # Option B: upload interactively\n",
        "    from google.colab import files\n",
        "    uploaded = files.upload()\n",
        "    DATA_PATH = list(uploaded.keys())[0]\n",
        "\n",
        "print(\"Using file:\", DATA_PATH)\n"
      ]
    },
    {
      "cell_type": "code",
      "source": [
        "# -------- 1) Robust loader (CSV or whitespace, header or none) ----------\n",
        "def try_read(path):\n",
        "    # First try standard CSV (handles header)\n",
        "    try:\n",
        "        df = pd.read_csv(path)\n",
        "        if df.select_dtypes(include=[np.number]).shape[1] >= 2:\n",
        "            return df\n",
        "    except Exception:\n",
        "        pass\n",
        "    # Try whitespace-separated with header guessed\n",
        "    try:\n",
        "        df = pd.read_csv(path, sep=r\"\\s+\", engine=\"python\")\n",
        "        if df.select_dtypes(include=[np.number]).shape[1] >= 2:\n",
        "            return df\n",
        "    except Exception:\n",
        "        pass\n",
        "    # Final: assume Boston Housing w/out header and assign names\n",
        "    col_names = [\n",
        "        \"CRIM\",\"ZN\",\"INDUS\",\"CHAS\",\"NOX\",\"RM\",\"AGE\",\"DIS\",\"RAD\",\"TAX\",\n",
        "        \"PTRATIO\",\"B\",\"LSTAT\",\"MEDV\"\n",
        "    ]\n",
        "    df = pd.read_csv(path, sep=r\"\\s+|,\", engine=\"python\", header=None, names=col_names)\n",
        "    return df\n",
        "\n",
        "df = try_read(DATA_PATH)\n",
        "df = df.dropna(how=\"all\").copy()\n",
        "df.columns = [c.strip() for c in df.columns]\n"
      ],
      "metadata": {
        "id": "skMll2ZTAMU7"
      },
      "execution_count": null,
      "outputs": []
    },
    {
      "cell_type": "code",
      "source": [
        "# -------- 2) Detect target (MEDV typical); fallback last column ----------\n",
        "target_candidates = [\"MEDV\",\"Price\",\"SalePrice\",\"price\",\"saleprice\",\"target\",\"Target\",\"label\",\"y\"]\n",
        "target_col = next((c for c in df.columns if c in target_candidates), df.columns[-1])\n",
        "\n",
        "# Keep numeric only\n",
        "num_cols = df.select_dtypes(include=[np.number]).columns.tolist()\n",
        "if target_col not in num_cols:\n",
        "    raise ValueError(f\"Detected target '{target_col}' is not numeric. Numeric columns: {num_cols}\")"
      ],
      "metadata": {
        "id": "nygkAexQAPva"
      },
      "execution_count": null,
      "outputs": []
    },
    {
      "cell_type": "code",
      "source": [
        "#-------- 3) Choose top-2 features by |corr| with target ----------\n",
        "corr = df[num_cols].corr(numeric_only=True)[target_col].drop(labels=[target_col], errors=\"ignore\")\n",
        "top2 = corr.abs().sort_values(ascending=False).index[:2].tolist()\n",
        "feat1, feat2 = top2[0], top2[1]\n",
        "print(f\"Target: {target_col} | Top-2 features: {feat1}, {feat2}\")\n",
        "\n",
        "# -------- 4) Model: Linear Regression on ALL numeric features ----------\n",
        "X = df[num_cols].drop(columns=[target_col])\n",
        "y = df[target_col].values\n",
        "\n",
        "pipeline = Pipeline(steps=[\n",
        "    (\"imputer\", SimpleImputer(strategy=\"median\")),\n",
        "    (\"scaler\", StandardScaler()),\n",
        "    (\"reg\", LinearRegression())\n",
        "])\n",
        "pipeline.fit(X, y)\n"
      ],
      "metadata": {
        "id": "n20agzWUAVM1"
      },
      "execution_count": null,
      "outputs": []
    },
    {
      "cell_type": "code",
      "source": [
        "# -------- 5) 3D scatter of actual data ----------\n",
        "fig1 = plt.figure(figsize=(8, 6))\n",
        "ax1 = fig1.add_subplot(111, projection=\"3d\")\n",
        "ax1.scatter(df[feat1], df[feat2], df[target_col])\n",
        "ax1.set_xlabel(feat1)\n",
        "ax1.set_ylabel(feat2)\n",
        "ax1.set_zlabel(target_col)\n",
        "ax1.set_title(f\"Actual {target_col} vs {feat1} & {feat2}\")\n",
        "plt.show()"
      ],
      "metadata": {
        "id": "aAGWb5tQAa6a"
      },
      "execution_count": null,
      "outputs": []
    },
    {
      "cell_type": "code",
      "source": [
        "# -------- 6) 3D surface of predictions (others fixed to mean) ----------\n",
        "means = X.mean(numeric_only=True)\n",
        "f1_lin = np.linspace(df[feat1].min(), df[feat1].max(), 60)\n",
        "f2_lin = np.linspace(df[feat2].min(), df[feat2].max(), 60)\n",
        "F1, F2 = np.meshgrid(f1_lin, f2_lin)\n",
        "\n",
        "grid_rows = F1.size\n",
        "grid_df = pd.DataFrame({col: np.full(grid_rows, means[col]) for col in X.columns})\n",
        "grid_df[feat1] = F1.ravel()\n",
        "grid_df[feat2] = F2.ravel()\n",
        "\n",
        "Z = pipeline.predict(grid_df).reshape(F1.shape)\n",
        "\n",
        "fig2 = plt.figure(figsize=(9, 7))\n",
        "ax2 = fig2.add_subplot(111, projection=\"3d\")\n",
        "ax2.plot_surface(F1, F2, Z)\n",
        "ax2.set_xlabel(feat1)\n",
        "ax2.set_ylabel(feat2)\n",
        "ax2.set_zlabel(f\"Predicted {target_col}\")\n",
        "ax2.set_title(\"Model surface (others fixed to mean)\")\n",
        "plt.show()\n"
      ],
      "metadata": {
        "id": "DJM2Ad-NAflj"
      },
      "execution_count": null,
      "outputs": []
    },
    {
      "cell_type": "code",
      "source": [
        "# -------- 7) (Optional) Save figures ----------\n",
        "fig1_path = \"/content/house_3d_scatter.png\"\n",
        "fig2_path = \"/content/house_3d_surface.png\"\n",
        "fig1.savefig(fig1_path, dpi=150, bbox_inches=\"tight\")\n",
        "fig2.savefig(fig2_path, dpi=150, bbox_inches=\"tight\")\n",
        "print(\"Saved:\", fig1_path, fig2_path)\n",
        "\n",
        "# NOTE: If you want to visualize an ANN you trained elsewhere,\n",
        "# replace the LinearRegression pipeline with your Keras model:\n",
        "#   keras_model = tf.keras.models.load_model('path_to_model')\n",
        "#   def predict_fn(df_batch): return keras_model.predict(df_batch_preprocessed).ravel()\n",
        "# and set Z = predict_fn(grid_df).reshape(F1.shape)"
      ],
      "metadata": {
        "id": "45kdteGfAirL"
      },
      "execution_count": null,
      "outputs": []
    }
  ]
}