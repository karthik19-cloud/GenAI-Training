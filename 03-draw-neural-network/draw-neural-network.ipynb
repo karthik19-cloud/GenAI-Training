{
  "nbformat": 4,
  "nbformat_minor": 0,
  "metadata": {
    "colab": {
      "provenance": [],
      "gpuType": "T4",
      "authorship_tag": "ABX9TyPPuYtuUOEEBq/SB5XFPiBy",
      "include_colab_link": true
    },
    "kernelspec": {
      "name": "python3",
      "display_name": "Python 3"
    },
    "language_info": {
      "name": "python"
    },
    "accelerator": "GPU"
  },
  "cells": [
    {
      "cell_type": "markdown",
      "metadata": {
        "id": "view-in-github",
        "colab_type": "text"
      },
      "source": [
        "<a href=\"https://colab.research.google.com/github/karthik19-cloud/GenAI-Training/blob/main/draw-neural-network.ipynb\" target=\"_parent\"><img src=\"https://colab.research.google.com/assets/colab-badge.svg\" alt=\"Open In Colab\"/></a>"
      ]
    },
    {
      "cell_type": "code",
      "execution_count": null,
      "metadata": {
        "id": "Mk9gViHX3PSt"
      },
      "outputs": [],
      "source": [
        "# 1) Imports\n",
        "import os\n",
        "import io\n",
        "import numpy as np\n",
        "import pandas as pd\n",
        "import matplotlib.pyplot as plt\n",
        "\n",
        "from sklearn.model_selection import train_test_split\n",
        "from sklearn.impute import SimpleImputer\n",
        "from sklearn.preprocessing import StandardScaler\n",
        "from sklearn.pipeline import Pipeline\n",
        "\n",
        "import tensorflow as tf\n",
        "from tensorflow import keras\n",
        "from tensorflow.keras import layers"
      ]
    },
    {
      "cell_type": "code",
      "source": [
        "# 2) Load the CSV\n",
        "# --- Option A: If your file is in /content/sample_data/pima_diabetes.csv\n",
        "CSV_PATH = \"/content/sample_data/pima-indians-diabetes.csv\"\n",
        "\n",
        "# --- Option B: Upload interactively instead (uncomment to use)\n",
        "# from google.colab import files\n",
        "# uploaded = files.upload()\n",
        "# CSV_PATH = list(uploaded.keys())[0]\n",
        "\n",
        "if not os.path.exists(CSV_PATH):\n",
        "    raise FileNotFoundError(\n",
        "        f\"CSV not found at {CSV_PATH}. \"\n",
        "        \"Place your file there or use the upload snippet above.\"\n",
        "    )\n",
        "\n",
        "df = pd.read_csv(CSV_PATH)\n",
        "print(\"✅ Loaded shape:\", df.shape)\n",
        "print(df.head())"
      ],
      "metadata": {
        "id": "Svp2iVoV3cOk"
      },
      "execution_count": null,
      "outputs": []
    },
    {
      "cell_type": "code",
      "source": [
        "# 3) Ensure expected columns (rename if needed)\n",
        "expected_cols = [\n",
        "    \"Pregnancies\",\"Glucose\",\"BloodPressure\",\"SkinThickness\",\"Insulin\",\n",
        "    \"BMI\",\"DiabetesPedigreeFunction\",\"Age\",\"Outcome\"\n",
        "]\n",
        "# Try to align columns if user had slightly different casing/spacing\n",
        "df.columns = [c.strip() for c in df.columns]\n",
        "missing = [c for c in expected_cols if c not in df.columns]\n",
        "if missing:\n",
        "    raise ValueError(f\"Missing expected columns: {missing}\\nFound: {list(df.columns)}\")\n"
      ],
      "metadata": {
        "id": "AvF-728l3e7y"
      },
      "execution_count": null,
      "outputs": []
    },
    {
      "cell_type": "code",
      "source": [
        "# 4) Basic cleaning:\n",
        "# These features sometimes contain zeros that mean \"missing\".\n",
        "zero_as_missing = [\"Glucose\",\"BloodPressure\",\"SkinThickness\",\"Insulin\",\"BMI\"]\n",
        "for col in zero_as_missing:\n",
        "    df[col] = df[col].replace(0, np.nan)\n",
        "\n",
        "# Separate X/y\n",
        "X = df[expected_cols[:-1]].copy()\n",
        "y = df[\"Outcome\"].values\n",
        "\n",
        "# 5) Train/Val split\n",
        "X_train, X_val, y_train, y_val = train_test_split(\n",
        "    X, y, test_size=0.2, random_state=42, stratify=y\n",
        ")\n",
        "\n",
        "# 6) Preprocess pipeline: impute + scale\n",
        "numeric_pipeline = Pipeline(steps=[\n",
        "    (\"imputer\", SimpleImputer(strategy=\"median\")),\n",
        "    (\"scaler\", StandardScaler())\n",
        "])\n",
        "X_train_proc = numeric_pipeline.fit_transform(X_train)\n",
        "X_val_proc   = numeric_pipeline.transform(X_val)\n"
      ],
      "metadata": {
        "id": "iYSTWXen3hmZ"
      },
      "execution_count": null,
      "outputs": []
    },
    {
      "cell_type": "code",
      "source": [
        "# 7) Build a simple feedforward NN\n",
        "tf.random.set_seed(42)\n",
        "\n",
        "model = keras.Sequential([\n",
        "    layers.Input(shape=(X_train_proc.shape[1],), name=\"input\"),\n",
        "    layers.Dense(16, activation=\"relu\", name=\"dense_1\"),\n",
        "    layers.Dropout(0.2, name=\"dropout_1\"),\n",
        "    layers.Dense(8, activation=\"relu\", name=\"dense_2\"),\n",
        "    layers.Dense(1, activation=\"sigmoid\", name=\"output\")\n",
        "], name=\"pima_diabetes_nn\")\n",
        "\n",
        "model.compile(\n",
        "    optimizer=keras.optimizers.Adam(learning_rate=1e-3),\n",
        "    loss=\"binary_crossentropy\",\n",
        "    metrics=[\"accuracy\", keras.metrics.AUC(name=\"auc\")]\n",
        ")\n",
        "\n",
        "model.summary()\n"
      ],
      "metadata": {
        "id": "sCpaooXp3oQa"
      },
      "execution_count": null,
      "outputs": []
    },
    {
      "cell_type": "code",
      "source": [
        "# 8) Train\n",
        "history = model.fit(\n",
        "    X_train_proc, y_train,\n",
        "    validation_data=(X_val_proc, y_val),\n",
        "    epochs=50,\n",
        "    batch_size=32,\n",
        "    verbose=0\n",
        ")\n",
        "\n",
        "print(f\"✅ Val Accuracy: {model.evaluate(X_val_proc, y_val, verbose=0)[1]:.3f}, \"\n",
        "      f\"Val AUC: {model.evaluate(X_val_proc, y_val, verbose=0)[2]:.3f}\")\n"
      ],
      "metadata": {
        "id": "T8O7y4Sb3qr7"
      },
      "execution_count": null,
      "outputs": []
    },
    {
      "cell_type": "code",
      "source": [
        "# 9) Plot training curves\n",
        "plt.figure(figsize=(6,4))\n",
        "plt.plot(history.history[\"accuracy\"], label=\"train_acc\")\n",
        "plt.plot(history.history[\"val_accuracy\"], label=\"val_acc\")\n",
        "plt.xlabel(\"Epoch\"); plt.ylabel(\"Accuracy\"); plt.title(\"Accuracy\")\n",
        "plt.legend(); plt.show()\n",
        "\n",
        "plt.figure(figsize=(6,4))\n",
        "plt.plot(history.history[\"auc\"], label=\"train_auc\")\n",
        "plt.plot(history.history[\"val_auc\"], label=\"val_auc\")\n",
        "plt.xlabel(\"Epoch\"); plt.ylabel(\"AUC\"); plt.title(\"AUC\")\n",
        "plt.legend(); plt.show()"
      ],
      "metadata": {
        "id": "0xsHkPEe3suu"
      },
      "execution_count": null,
      "outputs": []
    },
    {
      "cell_type": "code",
      "source": [
        "# 10) DRAW THE NETWORK (Graphviz)\n",
        "from tensorflow.keras.utils import plot_model\n",
        "\n",
        "try:\n",
        "    diagram_path = \"/content/pima_nn_architecture.png\"\n",
        "    plot_model(\n",
        "        model,\n",
        "        to_file=diagram_path,\n",
        "        show_shapes=True,\n",
        "        show_layer_names=True,\n",
        "        dpi=120,\n",
        "        expand_nested=True\n",
        "    )\n",
        "    from IPython.display import Image, display\n",
        "    print(\"🖼️ Model diagram saved at:\", diagram_path)\n",
        "    display(Image(filename=diagram_path))\n",
        "except Exception as e:\n",
        "    print(\"⚠️ Graphviz/pydot diagram failed:\", e)\n",
        "    print(\"Falling back to a simple Matplotlib schematic...\")"
      ],
      "metadata": {
        "id": "fl32ZzVi3zAj"
      },
      "execution_count": null,
      "outputs": []
    },
    {
      "cell_type": "code",
      "source": [
        "# 11) Fallback: draw a simple schematic with Matplotlib\n",
        "# Layer sizes\n",
        "layer_sizes = [X_train_proc.shape[1], 16, 8, 1]\n",
        "layer_names = [\"Input\", \"Dense(16)\", \"Dense(8)\", \"Output(sigmoid)\"]\n",
        "\n",
        "# Layout\n",
        "v_spacing = 1.0\n",
        "h_spacing = 2.5\n",
        "fig, ax = plt.subplots(figsize=(8, 6))\n",
        "ax.axis('off')\n",
        "\n",
        "# Node positions\n",
        "positions = []\n",
        "for li, size in enumerate(layer_sizes):\n",
        "    xs = li * h_spacing\n",
        "    ys = np.linspace(- (size-1)/2, (size-1)/2, size) * v_spacing\n",
        "    positions.append([(xs, y) for y in ys])\n",
        "\n",
        "# Draw connections\n",
        "for li in range(len(layer_sizes) - 1):\n",
        "    for (x1, y1) in positions[li]:\n",
        "        for (x2, y2) in positions[li+1]:\n",
        "            ax.plot([x1, x2], [y1, y2], linewidth=0.5)\n",
        "\n",
        "# Draw nodes\n",
        "for li, layer in enumerate(positions):\n",
        "    for (x, y) in layer:\n",
        "        circle = plt.Circle((x, y), 0.12, fill=False)\n",
        "        ax.add_patch(circle)\n",
        "    # Layer label\n",
        "    ax.text(layer[0][0], max(p[1] for p in layer) + 0.6, layer_names[li],\n",
        "            ha='center', va='bottom', fontsize=10)\n",
        "\n",
        "plt.title(\"Neural Network Schematic (Fallback)\")\n",
        "plt.show()\n",
        "\n",
        "# 12) Example: predict a single sample\n",
        "sample = np.array([[6, 148, 72, 35, 0, 33.6, 0.627, 50]])  # example row format\n",
        "sample_proc = numeric_pipeline.transform(pd.DataFrame(sample, columns=X.columns))\n",
        "proba = model.predict(sample_proc)[0,0]\n",
        "pred  = int(proba >= 0.5)\n",
        "print(f\"🔮 Example prediction: P(diabetes)={proba:.3f} → class={pred}\")"
      ],
      "metadata": {
        "id": "tI0XPfmo359m"
      },
      "execution_count": null,
      "outputs": []
    }
  ]
}
