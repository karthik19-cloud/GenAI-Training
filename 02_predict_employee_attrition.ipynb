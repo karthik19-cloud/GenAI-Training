{
  "nbformat": 4,
  "nbformat_minor": 0,
  "metadata": {
    "colab": {
      "provenance": [],
      "authorship_tag": "ABX9TyMYLa+sePKtIGaO8k/0dfCo",
      "include_colab_link": true
    },
    "kernelspec": {
      "name": "python3",
      "display_name": "Python 3"
    },
    "language_info": {
      "name": "python"
    }
  },
  "cells": [
    {
      "cell_type": "markdown",
      "metadata": {
        "id": "view-in-github",
        "colab_type": "text"
      },
      "source": [
        "<a href=\"https://colab.research.google.com/github/karthik19-cloud/GenAI-Training/blob/main/02_predict_employee_attrition.ipynb\" target=\"_parent\"><img src=\"https://colab.research.google.com/assets/colab-badge.svg\" alt=\"Open In Colab\"/></a>"
      ]
    },
    {
      "cell_type": "code",
      "execution_count": null,
      "metadata": {
        "id": "nUznFHXjBNPZ"
      },
      "outputs": [],
      "source": [
        "# ============================================\n",
        "# 🤖 Employee Attrition Prediction using KNN\n",
        "# ============================================\n",
        "\n",
        "# Import libraries\n",
        "import pandas as pd\n",
        "import numpy as np\n",
        "from sklearn.model_selection import train_test_split\n",
        "from sklearn.preprocessing import StandardScaler, LabelEncoder\n",
        "from sklearn.neighbors import KNeighborsClassifier\n",
        "from sklearn.metrics import classification_report, confusion_matrix, accuracy_score\n",
        "import matplotlib.pyplot as plt\n",
        "import seaborn as sns"
      ]
    },
    {
      "cell_type": "code",
      "source": [
        "# =====================\n",
        "# 1️⃣ Load the Dataset\n",
        "# =====================\n",
        "# If the CSV file is inside sample_data folder:\n",
        "df = pd.read_csv('/content/sample_data/employee_attrition.csv')\n",
        "\n",
        "print(\"✅ Dataset Loaded Successfully:\")\n",
        "print(df.head())"
      ],
      "metadata": {
        "id": "siTlXX4IBPVJ"
      },
      "execution_count": null,
      "outputs": []
    },
    {
      "cell_type": "code",
      "source": [
        "# ===========================\n",
        "# 2️⃣ Preprocess the Data\n",
        "# ===========================\n",
        "# Handle extra spaces in column names (if any)\n",
        "df.columns = df.columns.str.strip()\n",
        "\n",
        "# Encode categorical feature (JobRole)\n",
        "label_encoder = LabelEncoder()\n",
        "df['JobRole'] = label_encoder.fit_transform(df['JobRole'])\n",
        "\n",
        "# Separate features and target\n",
        "X = df[['Age', 'JobRole', 'MonthlyIncome', 'JobSatisfaction', 'YearsAtCompany']]\n",
        "y = df['Attrition']\n",
        "\n",
        "# Scale features for KNN (important for distance-based algorithms)\n",
        "scaler = StandardScaler()\n",
        "X_scaled = scaler.fit_transform(X)\n",
        "\n",
        "# Split data into train & test sets\n",
        "X_train, X_test, y_train, y_test = train_test_split(X_scaled, y, test_size=0.3, random_state=42)\n"
      ],
      "metadata": {
        "id": "TtAYOA-OBTlQ"
      },
      "execution_count": null,
      "outputs": []
    },
    {
      "cell_type": "code",
      "source": [
        "# ===========================\n",
        "# 3️⃣ Build and Train the Model\n",
        "# ===========================\n",
        "knn = KNeighborsClassifier(n_neighbors=3)  # You can tune this value\n",
        "knn.fit(X_train, y_train)"
      ],
      "metadata": {
        "id": "o-I3yHtMBXTP"
      },
      "execution_count": null,
      "outputs": []
    },
    {
      "cell_type": "code",
      "source": [
        "# ===========================\n",
        "# 4️⃣ Make Predictions\n",
        "# ===========================\n",
        "y_pred = knn.predict(X_test)"
      ],
      "metadata": {
        "id": "oyaN2zp0BZWB"
      },
      "execution_count": null,
      "outputs": []
    },
    {
      "cell_type": "code",
      "source": [
        "# ===========================\n",
        "# 5️⃣ Evaluate the Model\n",
        "# ===========================\n",
        "print(\"\\n📊 Model Evaluation Metrics:\")\n",
        "print(\"Accuracy:\", accuracy_score(y_test, y_pred))\n",
        "print(\"\\nClassification Report:\\n\", classification_report(y_test, y_pred))\n",
        "\n",
        "# Confusion Matrix\n",
        "cm = confusion_matrix(y_test, y_pred)\n",
        "plt.figure(figsize=(5,4))\n",
        "sns.heatmap(cm, annot=True, fmt='d', cmap='Blues')\n",
        "plt.title(\"Confusion Matrix\")\n",
        "plt.xlabel(\"Predicted Label\")\n",
        "plt.ylabel(\"True Label\")\n",
        "plt.show()"
      ],
      "metadata": {
        "id": "3Pcn0l5IBcXQ"
      },
      "execution_count": null,
      "outputs": []
    },
    {
      "cell_type": "code",
      "source": [
        "# ===========================\n",
        "# 6️⃣ Predict New Employee Attrition\n",
        "# ===========================\n",
        "# Example: Predict attrition for a new employee\n",
        "new_employee = pd.DataFrame({\n",
        "    'Age': [32],\n",
        "    'JobRole': ['Research Scientist'],\n",
        "    'MonthlyIncome': [5200],\n",
        "    'JobSatisfaction': [3],\n",
        "    'YearsAtCompany': [4]\n",
        "})\n",
        "\n",
        "# Encode and scale the new data\n",
        "new_employee['JobRole'] = label_encoder.transform(new_employee['JobRole'])\n",
        "new_employee_scaled = scaler.transform(new_employee)\n",
        "\n",
        "# Predict\n",
        "prediction = knn.predict(new_employee_scaled)\n",
        "print(f\"\\n🔮 Predicted Attrition for new employee: {int(prediction[0])} (1 = Leave, 0 = Stay)\")"
      ],
      "metadata": {
        "id": "buIGa69yBft4"
      },
      "execution_count": null,
      "outputs": []
    }
  ]
}