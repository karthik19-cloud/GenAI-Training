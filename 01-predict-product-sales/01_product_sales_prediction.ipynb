{
  "nbformat": 4,
  "nbformat_minor": 0,
  "metadata": {
    "colab": {
      "provenance": [],
      "gpuType": "T4",
      "authorship_tag": "ABX9TyNhMcUDutRLP/ZNH8oEbNns",
      "include_colab_link": true
    },
    "kernelspec": {
      "name": "python3",
      "display_name": "Python 3"
    },
    "language_info": {
      "name": "python"
    },
    "accelerator": "GPU"
  },
  "cells": [
    {
      "cell_type": "markdown",
      "metadata": {
        "id": "view-in-github",
        "colab_type": "text"
      },
      "source": [
        "<a href=\"https://colab.research.google.com/github/karthik19-cloud/GenAI-Training/blob/main/01_product_sales_prediction.ipynb\" target=\"_parent\"><img src=\"https://colab.research.google.com/assets/colab-badge.svg\" alt=\"Open In Colab\"/></a>"
      ]
    },
    {
      "cell_type": "code",
      "execution_count": 1,
      "metadata": {
        "id": "iQ2FeQAgx_DU"
      },
      "outputs": [],
      "source": [
        "# ============================================\n",
        "# 📊 Multivariate Linear Regression Model\n",
        "# Predicting Sales based on Advertising Budgets\n",
        "# ============================================\n",
        "import pandas as pd\n",
        "import numpy as np\n",
        "import matplotlib.pyplot as plt\n",
        "import seaborn as sns\n",
        "from sklearn.model_selection import train_test_split\n",
        "from sklearn.linear_model import LinearRegression\n",
        "from sklearn.metrics import mean_squared_error, r2_score"
      ]
    },
    {
      "cell_type": "code",
      "source": [
        "# =====================\n",
        "# 1️⃣ Load the Dataset\n",
        "# =====================\n",
        "df = pd.read_csv('advertising.csv')\n",
        "\n",
        "# Display dataset\n",
        "print(\"✅ Dataset Loaded Successfully:\")\n",
        "print(df.head())"
      ],
      "metadata": {
        "colab": {
          "base_uri": "https://localhost:8080/"
        },
        "id": "KFH3e8fByLuY",
        "outputId": "f6284c78-6dd9-464f-8ff5-605a87c32d8f"
      },
      "execution_count": 3,
      "outputs": [
        {
          "output_type": "stream",
          "name": "stdout",
          "text": [
            "Dataset:\n",
            "   TV Budget ($)  Radio Budget ($)  Newspaper Budget ($)  Sales (units)\n",
            "0          230.1              37.8                  69.2           22.1\n",
            "1           44.5              39.3                  45.1           10.4\n",
            "2           17.2              45.9                  69.3            9.3\n",
            "3          151.5              41.3                  58.5           18.5\n",
            "4          180.8              10.8                  58.4           12.9\n",
            "5            8.7              48.9                  75.0            7.2\n",
            "6           57.5              32.8                  23.5           11.8\n",
            "7          120.2              19.6                  11.6           13.2\n",
            "8          144.1              16.0                  40.3           15.6\n",
            "9          111.6              12.6                  37.9           12.2\n"
          ]
        }
      ]
    },
    {
      "cell_type": "code",
      "source": [
        "# ===========================\n",
        "# 2️⃣ Explore the Data\n",
        "# ===========================\n",
        "print(\"\\nDataset Summary:\")\n",
        "print(df.describe())\n",
        "\n",
        "# Correlation Matrix\n",
        "plt.figure(figsize=(8,6))\n",
        "sns.heatmap(df.corr(), annot=True, cmap='coolwarm', fmt=\".2f\")\n",
        "plt.title(\"🔗 Correlation Heatmap of Features\")\n",
        "plt.show()\n",
        "\n",
        "# Pairplot (relationships between variables)\n",
        "sns.pairplot(df)\n",
        "plt.suptitle(\"📈 Pairplot of Advertising Budgets vs Sales\", y=1.02)\n",
        "plt.show()"
      ],
      "metadata": {
        "id": "I5p3P4EZ3jmZ"
      },
      "execution_count": null,
      "outputs": []
    },
    {
      "cell_type": "code",
      "source": [
        "# ===========================\n",
        "# 3️⃣ Prepare Data for Model\n",
        "# ===========================\n",
        "X = df[['TV Budget ($)', 'Radio Budget ($)', 'Newspaper Budget ($)']]\n",
        "y = df['Sales (units)']\n",
        "\n",
        "X_train, X_test, y_train, y_test = train_test_split(X, y, test_size=0.2, random_state=42)\n"
      ],
      "metadata": {
        "id": "3j4ce7do3k-x"
      },
      "execution_count": null,
      "outputs": []
    },
    {
      "cell_type": "code",
      "source": [
        "# ===========================\n",
        "# 4️⃣ Train the Model\n",
        "# ===========================\n",
        "model = LinearRegression()\n",
        "model.fit(X_train, y_train)\n"
      ],
      "metadata": {
        "id": "y20vNWC43rQv"
      },
      "execution_count": null,
      "outputs": []
    },
    {
      "cell_type": "code",
      "source": [
        "# ===========================\n",
        "# 5️⃣ Evaluate the Model\n",
        "# ===========================\n",
        "y_pred = model.predict(X_test)\n",
        "\n",
        "mse = mean_squared_error(y_test, y_pred)\n",
        "r2 = r2_score(y_test, y_pred)\n",
        "\n",
        "print(\"\\n📊 Model Evaluation:\")\n",
        "print(f\"Mean Squared Error (MSE): {mse:.2f}\")\n",
        "print(f\"R-squared (R²): {r2:.2f}\")\n",
        "\n",
        "# Coefficients\n",
        "coefficients = pd.DataFrame({\n",
        "    'Feature': X.columns,\n",
        "    'Coefficient': model.coef_\n",
        "})\n",
        "print(\"\\nModel Coefficients:\")\n",
        "print(coefficients)\n",
        "print(f\"\\nIntercept: {model.intercept_:.2f}\")"
      ],
      "metadata": {
        "id": "PL1vFbCr3wHn"
      },
      "execution_count": null,
      "outputs": []
    },
    {
      "cell_type": "code",
      "source": [
        "# ===========================\n",
        "# 6️⃣ Visualization\n",
        "# ===========================\n",
        "\n",
        "# Actual vs Predicted plot\n",
        "plt.figure(figsize=(7,5))\n",
        "plt.scatter(y_test, y_pred, color='blue', edgecolors='k')\n",
        "plt.xlabel(\"Actual Sales (units)\")\n",
        "plt.ylabel(\"Predicted Sales (units)\")\n",
        "plt.title(\"🎯 Actual vs Predicted Sales\")\n",
        "plt.plot([y.min(), y.max()], [y.min(), y.max()], color='red', linestyle='--')\n",
        "plt.show()"
      ],
      "metadata": {
        "id": "WKp4Zd0X3yi6"
      },
      "execution_count": null,
      "outputs": []
    },
    {
      "cell_type": "code",
      "source": [
        "# ===========================\n",
        "# 7️⃣ Predict on New Data\n",
        "# ===========================\n",
        "new_data = pd.DataFrame({\n",
        "    'TV Budget ($)': [150],\n",
        "    'Radio Budget ($)': [20],\n",
        "    'Newspaper Budget ($)': [30]\n",
        "})\n",
        "predicted_sales = model.predict(new_data)\n",
        "print(f\"\\n🔮 Predicted Sales for new data: {predicted_sales[0]:.2f} units\")"
      ],
      "metadata": {
        "id": "hfxR-hGs30uh"
      },
      "execution_count": null,
      "outputs": []
    }
  ]
}
